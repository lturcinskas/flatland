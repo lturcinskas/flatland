{
  "nbformat": 4,
  "nbformat_minor": 0,
  "metadata": {
    "colab": {
      "provenance": []
    },
    "kernelspec": {
      "name": "python3",
      "display_name": "Python 3"
    },
    "language_info": {
      "name": "python"
    }
  },
  "cells": [
    {
      "cell_type": "code",
      "execution_count": 1,
      "metadata": {
        "id": "BA3FKDst1rF0"
      },
      "outputs": [],
      "source": [
        "%matplotlib inline\n",
        "\n",
        "import numpy as np\n",
        "import matplotlib.pyplot as plt\n",
        "import torch\n",
        "import torch.nn as nn\n",
        "import torch.nn.functional as F\n",
        "import torch.optim as optim\n",
        "from torch.utils.data import DataLoader, TensorDataset, random_split, ConcatDataset\n",
        "from sklearn.model_selection import train_test_split\n",
        "import torchvision.transforms as transforms\n",
        "from PIL import Image\n",
        "import random\n",
        "from scipy.ndimage import sobel"
      ]
    },
    {
      "cell_type": "markdown",
      "source": [
        "Upload files."
      ],
      "metadata": {
        "id": "GwrdZhJh3a-W"
      }
    },
    {
      "cell_type": "code",
      "source": [
        "from google.colab import files\n",
        "uploaded = files.upload() #we need train and test data, possibly model itself"
      ],
      "metadata": {
        "colab": {
          "base_uri": "https://localhost:8080/",
          "height": 73
        },
        "id": "a0BMwAuh1u0I",
        "outputId": "7b09f27f-4bc8-4008-e9f8-2b2695eca53e"
      },
      "execution_count": 4,
      "outputs": [
        {
          "output_type": "display_data",
          "data": {
            "text/plain": [
              "<IPython.core.display.HTML object>"
            ],
            "text/html": [
              "\n",
              "     <input type=\"file\" id=\"files-b55fa351-fa57-4d63-a4c2-5b2ecf264f20\" name=\"files[]\" multiple disabled\n",
              "        style=\"border:none\" />\n",
              "     <output id=\"result-b55fa351-fa57-4d63-a4c2-5b2ecf264f20\">\n",
              "      Upload widget is only available when the cell has been executed in the\n",
              "      current browser session. Please rerun this cell to enable.\n",
              "      </output>\n",
              "      <script>// Copyright 2017 Google LLC\n",
              "//\n",
              "// Licensed under the Apache License, Version 2.0 (the \"License\");\n",
              "// you may not use this file except in compliance with the License.\n",
              "// You may obtain a copy of the License at\n",
              "//\n",
              "//      http://www.apache.org/licenses/LICENSE-2.0\n",
              "//\n",
              "// Unless required by applicable law or agreed to in writing, software\n",
              "// distributed under the License is distributed on an \"AS IS\" BASIS,\n",
              "// WITHOUT WARRANTIES OR CONDITIONS OF ANY KIND, either express or implied.\n",
              "// See the License for the specific language governing permissions and\n",
              "// limitations under the License.\n",
              "\n",
              "/**\n",
              " * @fileoverview Helpers for google.colab Python module.\n",
              " */\n",
              "(function(scope) {\n",
              "function span(text, styleAttributes = {}) {\n",
              "  const element = document.createElement('span');\n",
              "  element.textContent = text;\n",
              "  for (const key of Object.keys(styleAttributes)) {\n",
              "    element.style[key] = styleAttributes[key];\n",
              "  }\n",
              "  return element;\n",
              "}\n",
              "\n",
              "// Max number of bytes which will be uploaded at a time.\n",
              "const MAX_PAYLOAD_SIZE = 100 * 1024;\n",
              "\n",
              "function _uploadFiles(inputId, outputId) {\n",
              "  const steps = uploadFilesStep(inputId, outputId);\n",
              "  const outputElement = document.getElementById(outputId);\n",
              "  // Cache steps on the outputElement to make it available for the next call\n",
              "  // to uploadFilesContinue from Python.\n",
              "  outputElement.steps = steps;\n",
              "\n",
              "  return _uploadFilesContinue(outputId);\n",
              "}\n",
              "\n",
              "// This is roughly an async generator (not supported in the browser yet),\n",
              "// where there are multiple asynchronous steps and the Python side is going\n",
              "// to poll for completion of each step.\n",
              "// This uses a Promise to block the python side on completion of each step,\n",
              "// then passes the result of the previous step as the input to the next step.\n",
              "function _uploadFilesContinue(outputId) {\n",
              "  const outputElement = document.getElementById(outputId);\n",
              "  const steps = outputElement.steps;\n",
              "\n",
              "  const next = steps.next(outputElement.lastPromiseValue);\n",
              "  return Promise.resolve(next.value.promise).then((value) => {\n",
              "    // Cache the last promise value to make it available to the next\n",
              "    // step of the generator.\n",
              "    outputElement.lastPromiseValue = value;\n",
              "    return next.value.response;\n",
              "  });\n",
              "}\n",
              "\n",
              "/**\n",
              " * Generator function which is called between each async step of the upload\n",
              " * process.\n",
              " * @param {string} inputId Element ID of the input file picker element.\n",
              " * @param {string} outputId Element ID of the output display.\n",
              " * @return {!Iterable<!Object>} Iterable of next steps.\n",
              " */\n",
              "function* uploadFilesStep(inputId, outputId) {\n",
              "  const inputElement = document.getElementById(inputId);\n",
              "  inputElement.disabled = false;\n",
              "\n",
              "  const outputElement = document.getElementById(outputId);\n",
              "  outputElement.innerHTML = '';\n",
              "\n",
              "  const pickedPromise = new Promise((resolve) => {\n",
              "    inputElement.addEventListener('change', (e) => {\n",
              "      resolve(e.target.files);\n",
              "    });\n",
              "  });\n",
              "\n",
              "  const cancel = document.createElement('button');\n",
              "  inputElement.parentElement.appendChild(cancel);\n",
              "  cancel.textContent = 'Cancel upload';\n",
              "  const cancelPromise = new Promise((resolve) => {\n",
              "    cancel.onclick = () => {\n",
              "      resolve(null);\n",
              "    };\n",
              "  });\n",
              "\n",
              "  // Wait for the user to pick the files.\n",
              "  const files = yield {\n",
              "    promise: Promise.race([pickedPromise, cancelPromise]),\n",
              "    response: {\n",
              "      action: 'starting',\n",
              "    }\n",
              "  };\n",
              "\n",
              "  cancel.remove();\n",
              "\n",
              "  // Disable the input element since further picks are not allowed.\n",
              "  inputElement.disabled = true;\n",
              "\n",
              "  if (!files) {\n",
              "    return {\n",
              "      response: {\n",
              "        action: 'complete',\n",
              "      }\n",
              "    };\n",
              "  }\n",
              "\n",
              "  for (const file of files) {\n",
              "    const li = document.createElement('li');\n",
              "    li.append(span(file.name, {fontWeight: 'bold'}));\n",
              "    li.append(span(\n",
              "        `(${file.type || 'n/a'}) - ${file.size} bytes, ` +\n",
              "        `last modified: ${\n",
              "            file.lastModifiedDate ? file.lastModifiedDate.toLocaleDateString() :\n",
              "                                    'n/a'} - `));\n",
              "    const percent = span('0% done');\n",
              "    li.appendChild(percent);\n",
              "\n",
              "    outputElement.appendChild(li);\n",
              "\n",
              "    const fileDataPromise = new Promise((resolve) => {\n",
              "      const reader = new FileReader();\n",
              "      reader.onload = (e) => {\n",
              "        resolve(e.target.result);\n",
              "      };\n",
              "      reader.readAsArrayBuffer(file);\n",
              "    });\n",
              "    // Wait for the data to be ready.\n",
              "    let fileData = yield {\n",
              "      promise: fileDataPromise,\n",
              "      response: {\n",
              "        action: 'continue',\n",
              "      }\n",
              "    };\n",
              "\n",
              "    // Use a chunked sending to avoid message size limits. See b/62115660.\n",
              "    let position = 0;\n",
              "    do {\n",
              "      const length = Math.min(fileData.byteLength - position, MAX_PAYLOAD_SIZE);\n",
              "      const chunk = new Uint8Array(fileData, position, length);\n",
              "      position += length;\n",
              "\n",
              "      const base64 = btoa(String.fromCharCode.apply(null, chunk));\n",
              "      yield {\n",
              "        response: {\n",
              "          action: 'append',\n",
              "          file: file.name,\n",
              "          data: base64,\n",
              "        },\n",
              "      };\n",
              "\n",
              "      let percentDone = fileData.byteLength === 0 ?\n",
              "          100 :\n",
              "          Math.round((position / fileData.byteLength) * 100);\n",
              "      percent.textContent = `${percentDone}% done`;\n",
              "\n",
              "    } while (position < fileData.byteLength);\n",
              "  }\n",
              "\n",
              "  // All done.\n",
              "  yield {\n",
              "    response: {\n",
              "      action: 'complete',\n",
              "    }\n",
              "  };\n",
              "}\n",
              "\n",
              "scope.google = scope.google || {};\n",
              "scope.google.colab = scope.google.colab || {};\n",
              "scope.google.colab._files = {\n",
              "  _uploadFiles,\n",
              "  _uploadFilesContinue,\n",
              "};\n",
              "})(self);\n",
              "</script> "
            ]
          },
          "metadata": {}
        },
        {
          "output_type": "stream",
          "name": "stdout",
          "text": [
            "Saving flatland.pth to flatland.pth\n"
          ]
        }
      ]
    },
    {
      "cell_type": "code",
      "source": [
        "device = \"cuda\" if torch.cuda.is_available() else \"mps\" if torch.backends.mps.is_available() else \"cpu\"\n",
        "print(f\"Using device: {device}\")"
      ],
      "metadata": {
        "colab": {
          "base_uri": "https://localhost:8080/"
        },
        "id": "oZI1nUIjYpEJ",
        "outputId": "4d8bc193-3a3c-45c4-8305-69e5f03ea8ab"
      },
      "execution_count": 5,
      "outputs": [
        {
          "output_type": "stream",
          "name": "stdout",
          "text": [
            "Using device: cpu\n"
          ]
        }
      ]
    },
    {
      "cell_type": "markdown",
      "source": [
        "Data augmentation/making data usable. Here we apply padding, sobel filter and some flips in order to make data easier to learn from and to increase dataset size. At the same time we prepare data for model evaluation."
      ],
      "metadata": {
        "id": "O8TlDMnW3g9w"
      }
    },
    {
      "cell_type": "code",
      "source": [
        "import pickle, gzip\n",
        "X, y = pickle.load(gzip.open(\"flatland_train.data\", 'rb'))\n",
        "X_eval, _ = pickle.load(gzip.open(\"flatland_test.data\", 'rb'))"
      ],
      "metadata": {
        "id": "XUG4U2Tx1up7"
      },
      "execution_count": 6,
      "outputs": []
    },
    {
      "cell_type": "code",
      "source": [
        "y = np.where(y != 0, y - 2, y)  # Convert labels to 0, 1, 2, 3\n",
        "X = torch.tensor(X, dtype=torch.float32) / 255.0  # Normalize pixel values\n",
        "X_eval = torch.tensor(X_eval, dtype=torch.float32) / 255.0\n",
        "y = torch.tensor(y, dtype=torch.long)"
      ],
      "metadata": {
        "id": "7JPG4wPG1unf"
      },
      "execution_count": 7,
      "outputs": []
    },
    {
      "cell_type": "code",
      "source": [
        "def apply_padding(X, pad_size=1):\n",
        "    # Adding zero padding around the images\n",
        "    X_padded = F.pad(X, (pad_size, pad_size, pad_size, pad_size), mode='constant', value=0)\n",
        "    return X_padded\n",
        "\n",
        "# Function to apply Sobel filter\n",
        "def apply_sobel(X):\n",
        "    X_sobel = np.zeros_like(X)  # Placeholder for the Sobel filtered images\n",
        "    for i in range(X.shape[0]):  # Loop through each image in the batch\n",
        "        img = X[i].numpy()  # Convert to NumPy array\n",
        "        sobel_x = sobel(img, axis=1)  # Sobel filter in x-direction\n",
        "        sobel_y = sobel(img, axis=0)  # Sobel filter in y-direction\n",
        "        sobel_img = np.hypot(sobel_x, sobel_y)  # Magnitude of gradient, spalva keiciasi\n",
        "        X_sobel[i] = torch.tensor(sobel_img)  # Convert back to torch tensor\n",
        "    return torch.tensor(X_sobel, dtype=torch.float32)\n",
        "\n",
        "\n",
        "# Apply padding to the dataset\n",
        "X = apply_padding(X, pad_size=1)\n",
        "\n",
        "# Apply Sobel filter to the padded dataset\n",
        "X = apply_sobel(X)\n",
        "\n",
        "# If you want to apply padding to the eval data as well\n",
        "X_eval = apply_padding(X_eval, pad_size=1)\n",
        "X_eval = apply_sobel(X_eval)\n",
        "\n",
        "X = torch.tensor(X, dtype=torch.float32)\n",
        "X_eval = torch.tensor(X_eval, dtype=torch.float32)"
      ],
      "metadata": {
        "colab": {
          "base_uri": "https://localhost:8080/"
        },
        "id": "HXb0A1QS2U7h",
        "outputId": "433e30b8-84cd-442d-c436-1512f0078551"
      },
      "execution_count": 8,
      "outputs": [
        {
          "output_type": "stream",
          "name": "stderr",
          "text": [
            "<ipython-input-8-dc1b61e1ddb9>:28: UserWarning: To copy construct from a tensor, it is recommended to use sourceTensor.clone().detach() or sourceTensor.clone().detach().requires_grad_(True), rather than torch.tensor(sourceTensor).\n",
            "  X = torch.tensor(X, dtype=torch.float32)\n",
            "<ipython-input-8-dc1b61e1ddb9>:29: UserWarning: To copy construct from a tensor, it is recommended to use sourceTensor.clone().detach() or sourceTensor.clone().detach().requires_grad_(True), rather than torch.tensor(sourceTensor).\n",
            "  X_eval = torch.tensor(X_eval, dtype=torch.float32)\n"
          ]
        }
      ]
    },
    {
      "cell_type": "code",
      "source": [
        "X_vertical_flip = torch.flip(X, dims=[2])\n",
        "X_horizontal_flip = torch.flip(X, dims=[1])\n",
        "X_diagonl_flip = torch.flip(X_horizontal_flip, dims=[2])\n",
        "\n",
        "X = torch.cat((X, X_vertical_flip, X_horizontal_flip, X_diagonl_flip), dim=0)\n",
        "\n",
        "y_tensor = torch.tensor(y) if isinstance(y, np.ndarray) else y\n",
        "y = torch.cat((y_tensor, y_tensor, y_tensor, y_tensor), dim=0)"
      ],
      "metadata": {
        "id": "OtzFE1v32U49"
      },
      "execution_count": 9,
      "outputs": []
    },
    {
      "cell_type": "markdown",
      "source": [
        "Example of how our changed data looks like."
      ],
      "metadata": {
        "id": "0k6zWrAj39Y3"
      }
    },
    {
      "cell_type": "code",
      "source": [
        "plt.imshow(X[16])\n",
        "plt.title(f\"label {y[16]}\")\n",
        "plt.show()"
      ],
      "metadata": {
        "colab": {
          "base_uri": "https://localhost:8080/",
          "height": 452
        },
        "id": "d5kq6sY7567b",
        "outputId": "b8902936-68ec-443b-cf2a-2f7706ae5711"
      },
      "execution_count": 52,
      "outputs": [
        {
          "output_type": "display_data",
          "data": {
            "text/plain": [
              "<Figure size 640x480 with 1 Axes>"
            ],
            "image/png": "[encoded data removed]"
          },
          "metadata": {}
        }
      ]
    },
    {
      "cell_type": "markdown",
      "source": [
        "Train/test split."
      ],
      "metadata": {
        "id": "49UhMDMI4SLb"
      }
    },
    {
      "cell_type": "code",
      "source": [
        "X_train, X_test, y_train, y_test = train_test_split(X, y, test_size=0.3, random_state=42)\n",
        "\n",
        "X_train = X_train.unsqueeze(1)\n",
        "X_test = X_test.unsqueeze(1)\n",
        "\n",
        "train_dataset_ = TensorDataset(X_train, y_train)\n",
        "test_dataset = TensorDataset(X_test, y_test)\n",
        "\n",
        "train_loader = DataLoader(train_dataset_, batch_size=64, shuffle=True)\n",
        "test_loader = DataLoader(test_dataset, batch_size=64, shuffle=False)"
      ],
      "metadata": {
        "id": "9mK9KY-D2U0R"
      },
      "execution_count": 11,
      "outputs": []
    },
    {
      "cell_type": "markdown",
      "source": [
        "Our CNN model."
      ],
      "metadata": {
        "id": "K7P-MwUD4Mi2"
      }
    },
    {
      "cell_type": "code",
      "source": [
        "class CNN(nn.Module):\n",
        "    def __init__(self):\n",
        "        super(CNN, self).__init__()\n",
        "        self.conv1 = nn.Conv2d(1, 32, kernel_size=3, padding=1)\n",
        "        self.bn1 = nn.BatchNorm2d(32)\n",
        "\n",
        "        self.conv2 = nn.Conv2d(32, 64, kernel_size=3, padding=1)\n",
        "        self.bn2 = nn.BatchNorm2d(64)\n",
        "\n",
        "        self.conv3 = nn.Conv2d(64, 128, kernel_size=3, padding=1)\n",
        "        self.bn3 = nn.BatchNorm2d(128)\n",
        "\n",
        "        self.pool = nn.MaxPool2d(2, 2)  # Pooling layer with kernel size 2x2\n",
        "\n",
        "        # Fully connected layers\n",
        "        self.fc1 = nn.Linear(128 * 6 * 6, 256)\n",
        "        self.fc2 = nn.Linear(256, 128)\n",
        "        self.fc3 = nn.Linear(128, 5)\n",
        "\n",
        "        # Dropout layers\n",
        "        self.dropout = nn.Dropout(p=0.3)\n",
        "\n",
        "    def forward(self, x):\n",
        "        # Convolutional layers with ReLU activation and BatchNorm\n",
        "        x = self.pool(F.relu(self.bn1(self.conv1(x))))\n",
        "        x = self.pool(F.relu(self.bn2(self.conv2(x))))\n",
        "        x = self.pool(F.relu(self.bn3(self.conv3(x))))\n",
        "\n",
        "        # Flatten the output for the fully connected layers\n",
        "        x = x.view(-1, 128 * 6 * 6)\n",
        "\n",
        "        # Fully connected layers with ReLU and Dropout\n",
        "        x = F.relu(self.fc1(x))\n",
        "        x = self.dropout(x)\n",
        "        x = F.relu(self.fc2(x))\n",
        "        x = self.dropout(x)\n",
        "        x = self.fc3(x)\n",
        "\n",
        "        return x"
      ],
      "metadata": {
        "id": "gJ3zCACiqVHb"
      },
      "execution_count": 10,
      "outputs": []
    },
    {
      "cell_type": "markdown",
      "source": [
        "Model initialization."
      ],
      "metadata": {
        "id": "UFjTOVTF4Wd0"
      }
    },
    {
      "cell_type": "code",
      "source": [
        "model = CNN().to(device)\n",
        "model.load_state_dict(torch.load(\"flatland.pth\", map_location=torch.device('cpu')))\n",
        "criterion = nn.CrossEntropyLoss() #label_smoothing = 0.1\n",
        "optimizer = optim.Adam(model.parameters(), lr=0.001, weight_decay=1e-4)"
      ],
      "metadata": {
        "id": "cvGgApnj2Uxq",
        "colab": {
          "base_uri": "https://localhost:8080/"
        },
        "outputId": "ae8a66a0-bce7-4fa5-9cb8-0f01ef8f8c5c"
      },
      "execution_count": 13,
      "outputs": [
        {
          "output_type": "stream",
          "name": "stderr",
          "text": [
            "<ipython-input-13-7808a5cdcd1b>:2: FutureWarning: You are using `torch.load` with `weights_only=False` (the current default value), which uses the default pickle module implicitly. It is possible to construct malicious pickle data which will execute arbitrary code during unpickling (See https://github.com/pytorch/pytorch/blob/main/SECURITY.md#untrusted-models for more details). In a future release, the default value for `weights_only` will be flipped to `True`. This limits the functions that could be executed during unpickling. Arbitrary objects will no longer be allowed to be loaded via this mode unless they are explicitly allowlisted by the user via `torch.serialization.add_safe_globals`. We recommend you start setting `weights_only=True` for any use case where you don't have full control of the loaded file. Please open an issue on GitHub for any issues related to this experimental feature.\n",
            "  model.load_state_dict(torch.load(\"flatland.pth\", map_location=torch.device('cpu')))\n"
          ]
        }
      ]
    },
    {
      "cell_type": "markdown",
      "source": [
        "Training model code that also gives some statistics along the way."
      ],
      "metadata": {
        "id": "tQ72KHw-4aLS"
      }
    },
    {
      "cell_type": "code",
      "source": [
        "num_epochs = 1  # Adjust as needed\n",
        "\n",
        "train_loss_history = []\n",
        "val_loss_history = []\n",
        "train_acc_history = []\n",
        "val_acc_history = []\n",
        "\n",
        "\n",
        "for epoch in range(num_epochs):\n",
        "    # Training phase\n",
        "    model.train()\n",
        "    running_loss = 0.0\n",
        "    correct_train = 0\n",
        "    total_train = 0\n",
        "\n",
        "    for i, data in enumerate(train_loader, 0):\n",
        "        inputs, labels = data\n",
        "        inputs = inputs.to(device)\n",
        "        labels = labels.to(device)\n",
        "\n",
        "        optimizer.zero_grad()\n",
        "\n",
        "        outputs = model(inputs)\n",
        "        loss = criterion(outputs, labels)\n",
        "\n",
        "        loss.backward()\n",
        "        optimizer.step()\n",
        "\n",
        "        running_loss += loss.item()\n",
        "\n",
        "        _, predicted_train = torch.max(outputs.data, 1)\n",
        "        total_train += labels.size(0)\n",
        "        correct_train += (predicted_train == labels).sum().item()\n",
        "\n",
        "    epoch_train_loss = running_loss / len(train_loader)\n",
        "    train_loss_history.append(epoch_train_loss)\n",
        "    epoch_train_acc = 100 * correct_train / total_train\n",
        "    train_acc_history.append(epoch_train_acc)\n",
        "\n",
        "\n",
        "    # Validation phase\n",
        "    model.eval()\n",
        "    val_loss = 0.0\n",
        "    correct_val = 0\n",
        "    total_val = 0\n",
        "\n",
        "    with torch.no_grad():\n",
        "        for data in test_loader:\n",
        "            inputs, labels = data\n",
        "            inputs = inputs.to(device)\n",
        "            labels = labels.to(device)\n",
        "            outputs = model(inputs)\n",
        "            loss = criterion(outputs, labels)\n",
        "            val_loss += loss.item()\n",
        "\n",
        "            _, predicted_val = torch.max(outputs.data, 1)\n",
        "            total_val += labels.size(0)\n",
        "            correct_val += (predicted_val == labels).sum().item()\n",
        "\n",
        "    epoch_val_loss = val_loss / len(test_loader)\n",
        "    val_loss_history.append(epoch_val_loss)\n",
        "    epoch_val_acc = 100 * correct_val / total_val\n",
        "    val_acc_history.append(epoch_val_acc)\n",
        "\n",
        "    print(f\"Epoch: {epoch + 1}, Train Loss: {epoch_train_loss:.3f}, Val Loss: {epoch_val_loss:.3f}\")\n",
        "    print(f\"Train Acc: {epoch_train_acc:.2f}%, Val Acc: {epoch_val_acc:.2f}%\")\n",
        ""
      ],
      "metadata": {
        "colab": {
          "base_uri": "https://localhost:8080/"
        },
        "id": "TfTzvoIpOruG",
        "outputId": "9ac57022-8a6b-4d82-da15-bc71226b7e4d"
      },
      "execution_count": 15,
      "outputs": [
        {
          "output_type": "stream",
          "name": "stdout",
          "text": [
            "Epoch: 1, Train Loss: 0.052, Val Loss: 0.168\n",
            "Train Acc: 98.57%, Val Acc: 98.22%\n"
          ]
        }
      ]
    },
    {
      "cell_type": "markdown",
      "source": [
        "Create dataset of evaluation data and evalute model."
      ],
      "metadata": {
        "id": "o3MwRFaL4iob"
      }
    },
    {
      "cell_type": "code",
      "source": [
        "X_eval.shape"
      ],
      "metadata": {
        "colab": {
          "base_uri": "https://localhost:8080/"
        },
        "id": "o8nDUuKjKX3R",
        "outputId": "506cba31-6174-496e-a496-26c90cb13d30"
      },
      "execution_count": 16,
      "outputs": [
        {
          "output_type": "execute_result",
          "data": {
            "text/plain": [
              "torch.Size([10000, 52, 52])"
            ]
          },
          "metadata": {},
          "execution_count": 16
        }
      ]
    },
    {
      "cell_type": "code",
      "source": [
        "X_eval = X_eval.unsqueeze(1)"
      ],
      "metadata": {
        "id": "DxbaANyktEwc"
      },
      "execution_count": 17,
      "outputs": []
    },
    {
      "cell_type": "code",
      "source": [
        "eval_loader = torch.utils.data.DataLoader(X_eval, batch_size=512, shuffle=False)"
      ],
      "metadata": {
        "id": "1IHpIFTrtoSk"
      },
      "execution_count": 18,
      "outputs": []
    },
    {
      "cell_type": "code",
      "source": [
        "model.eval()  # Set the model to evaluation mode\n",
        "\n",
        "predictions = []\n",
        "\n",
        "with torch.no_grad():  # No need to calculate gradients for evaluation\n",
        "    for images in eval_loader:\n",
        "        images = images.to(device)\n",
        "        outputs = model(images)  # Forward pass\n",
        "        _, predicted = torch.max(outputs, 1)  # Get the index of the max logit (predicted class)\n",
        "        predictions.extend(predicted.cpu().numpy())\n",
        "\n",
        "\n",
        "predictions = np.array(predictions)\n",
        "\n",
        "predictions = np.where(predictions != 0, predictions + 2, predictions)\n",
        "predictions[0:7]"
      ],
      "metadata": {
        "colab": {
          "base_uri": "https://localhost:8080/"
        },
        "id": "m0YNUNGYI-8o",
        "outputId": "2beb4984-646f-45e8-b8e7-e34b61fba2cc"
      },
      "execution_count": 19,
      "outputs": [
        {
          "output_type": "execute_result",
          "data": {
            "text/plain": [
              "array([6, 6, 4, 5, 5, 3, 3])"
            ]
          },
          "metadata": {},
          "execution_count": 19
        }
      ]
    },
    {
      "cell_type": "markdown",
      "source": [
        "If needed save the predictions and the model itself."
      ],
      "metadata": {
        "id": "quNXzewo4_Ri"
      }
    },
    {
      "cell_type": "code",
      "source": [
        "with open('preds.txt', 'w') as f:\n",
        "    for pred in predictions:\n",
        "        f.write(str(pred))"
      ],
      "metadata": {
        "id": "GjfDq8dDwLOg"
      },
      "execution_count": 65,
      "outputs": []
    },
    {
      "cell_type": "code",
      "source": [
        "# Save the model\n",
        "torch.save(model.state_dict(), \"flatland.pth\")\n",
        "from google.colab import files  # For Google Colab\n",
        "files.download(\"flatland.pth\")\n",
        "# To load the model later\n",
        "# model = CNN()\n",
        "# model.load_state_dict(torch.load(\"cnn_flatland.pth\"))\n"
      ],
      "metadata": {
        "colab": {
          "base_uri": "https://localhost:8080/",
          "height": 17
        },
        "id": "CD7uJCz8wtrc",
        "outputId": "61d875d8-df50-45e1-90f9-1dd7eabccff4"
      },
      "execution_count": 66,
      "outputs": [
        {
          "output_type": "display_data",
          "data": {
            "text/plain": [
              "<IPython.core.display.Javascript object>"
            ],
            "application/javascript": [
              "\n",
              "    async function download(id, filename, size) {\n",
              "      if (!google.colab.kernel.accessAllowed) {\n",
              "        return;\n",
              "      }\n",
              "      const div = document.createElement('div');\n",
              "      const label = document.createElement('label');\n",
              "      label.textContent = `Downloading \"${filename}\": `;\n",
              "      div.appendChild(label);\n",
              "      const progress = document.createElement('progress');\n",
              "      progress.max = size;\n",
              "      div.appendChild(progress);\n",
              "      document.body.appendChild(div);\n",
              "\n",
              "      const buffers = [];\n",
              "      let downloaded = 0;\n",
              "\n",
              "      const channel = await google.colab.kernel.comms.open(id);\n",
              "      // Send a message to notify the kernel that we're ready.\n",
              "      channel.send({})\n",
              "\n",
              "      for await (const message of channel.messages) {\n",
              "        // Send a message to notify the kernel that we're ready.\n",
              "        channel.send({})\n",
              "        if (message.buffers) {\n",
              "          for (const buffer of message.buffers) {\n",
              "            buffers.push(buffer);\n",
              "            downloaded += buffer.byteLength;\n",
              "            progress.value = downloaded;\n",
              "          }\n",
              "        }\n",
              "      }\n",
              "      const blob = new Blob(buffers, {type: 'application/binary'});\n",
              "      const a = document.createElement('a');\n",
              "      a.href = window.URL.createObjectURL(blob);\n",
              "      a.download = filename;\n",
              "      div.appendChild(a);\n",
              "      a.click();\n",
              "      div.remove();\n",
              "    }\n",
              "  "
            ]
          },
          "metadata": {}
        },
        {
          "output_type": "display_data",
          "data": {
            "text/plain": [
              "<IPython.core.display.Javascript object>"
            ],
            "application/javascript": [
              "download(\"download_f35787d6-fce3-478c-82b7-160574302813\", \"flatland.pth\", 5236644)"
            ]
          },
          "metadata": {}
        }
      ]
    }
  ]
}